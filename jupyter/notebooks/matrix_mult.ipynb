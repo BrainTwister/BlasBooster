{
 "cells": [
  {
   "cell_type": "code",
   "execution_count": 5,
   "metadata": {},
   "outputs": [
    {
     "name": "stdout",
     "output_type": "stream",
     "text": [
      "blasbooster version: 0.3 revision fb5599d\n",
      "numpy version: 1.17.3\n"
     ]
    }
   ],
   "source": [
    "import blasbooster as bb\n",
    "import numpy as np\n",
    "\n",
    "print(\"blasbooster version:\",bb.__version__)\n",
    "print(\"numpy version:\", np.__version__)"
   ]
  },
  {
   "cell_type": "code",
   "execution_count": 2,
   "metadata": {},
   "outputs": [
    {
     "name": "stdout",
     "output_type": "stream",
     "text": [
      "[[0.9344637  0.69282615 0.75129825 0.9509893  0.01317367]\n",
      " [0.5693703  0.50178725 0.10449303 0.0769534  0.61917776]\n",
      " [0.6933893  0.6983037  0.34631586 0.3004619  0.5638619 ]\n",
      " [0.23356915 0.897028   0.30880734 0.24742821 0.91817826]\n",
      " [0.84505963 0.75320095 0.3488431  0.1414728  0.27972797]]\n"
     ]
    }
   ],
   "source": [
    "np_A = np.random.rand(5, 5).astype(np.float32)\n",
    "print(np_A)"
   ]
  },
  {
   "cell_type": "code",
   "execution_count": 3,
   "metadata": {},
   "outputs": [],
   "source": [
    "A = bb.Matrix(np_A)"
   ]
  },
  {
   "cell_type": "code",
   "execution_count": 4,
   "metadata": {},
   "outputs": [
    {
     "ename": "TypeError",
     "evalue": "__str__(): incompatible function arguments. The following argument types are supported:\n    1. () -> str\n\nInvoked with: <blasbooster.Matrix object at 0x7fa0e436b8f0>",
     "output_type": "error",
     "traceback": [
      "\u001b[0;31m---------------------------------------------------------------------------\u001b[0m",
      "\u001b[0;31mTypeError\u001b[0m                                 Traceback (most recent call last)",
      "\u001b[0;32m<ipython-input-4-939330b76721>\u001b[0m in \u001b[0;36m<module>\u001b[0;34m\u001b[0m\n\u001b[0;32m----> 1\u001b[0;31m \u001b[0mprint\u001b[0m\u001b[0;34m(\u001b[0m\u001b[0mA\u001b[0m\u001b[0;34m)\u001b[0m\u001b[0;34m\u001b[0m\u001b[0;34m\u001b[0m\u001b[0m\n\u001b[0m",
      "\u001b[0;31mTypeError\u001b[0m: __str__(): incompatible function arguments. The following argument types are supported:\n    1. () -> str\n\nInvoked with: <blasbooster.Matrix object at 0x7fa0e436b8f0>"
     ]
    }
   ],
   "source": [
    "print(A)"
   ]
  },
  {
   "cell_type": "code",
   "execution_count": null,
   "metadata": {},
   "outputs": [],
   "source": [
    "B = A * A"
   ]
  },
  {
   "cell_type": "code",
   "execution_count": null,
   "metadata": {},
   "outputs": [],
   "source": []
  }
 ],
 "metadata": {
  "kernelspec": {
   "display_name": "Python 3",
   "language": "python",
   "name": "python3"
  },
  "language_info": {
   "codemirror_mode": {
    "name": "ipython",
    "version": 3
   },
   "file_extension": ".py",
   "mimetype": "text/x-python",
   "name": "python",
   "nbconvert_exporter": "python",
   "pygments_lexer": "ipython3",
   "version": "3.6.8"
  }
 },
 "nbformat": 4,
 "nbformat_minor": 2
}
